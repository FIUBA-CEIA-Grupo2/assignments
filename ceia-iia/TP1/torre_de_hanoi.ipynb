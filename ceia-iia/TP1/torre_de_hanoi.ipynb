{
 "cells": [
  {
   "metadata": {},
   "cell_type": "markdown",
   "source": [
    "# Importamos las librerias necesarias# Torre de Hanoi - Algoritmo A*\n",
    "# Introducción a la Inteligencia Artificial\n",
    "\n",
    "## Problema de la Torre de Hanoi con 5 discos\n",
    "\n",
    "### Descripción del problema\n",
    "La Torre de Hanoi es un problema clásico que consiste en mover una torre de discos de diferentes tamaños de una varilla a otra, siguiendo estas reglas:\n",
    "1. Solo se puede mover un disco a la vez\n",
    "2. Un disco solo puede colocarse sobre otro disco más grande\n",
    "3. Objetivo: mover todos los discos de la varilla izquierda (A) a la derecha (C)\n",
    "\n",
    "### Estado inicial: Todos los discos en la varilla A\n",
    "### Estado objetivo: Todos los discos en la varilla C"
   ],
   "id": "31c8b21e720fa51"
  },
  {
   "metadata": {},
   "cell_type": "markdown",
   "source": "# Importamos las librerias necesarias",
   "id": "3e045f7e0b2ccd4d"
  },
  {
   "cell_type": "code",
   "execution_count": null,
   "id": "initial_id",
   "metadata": {
    "collapsed": true
   },
   "outputs": [],
   "source": [
    "import heapq\n",
    "import time\n",
    "import json\n",
    "from typing import List, Tuple, Optional, Dict, Any\n",
    "from datetime import datetime\n",
    "import tracemalloc"
   ]
  },
  {
   "metadata": {},
   "cell_type": "markdown",
   "source": "# Definimos las clases necesarias",
   "id": "56c2bff9f16b74e4"
  },
  {
   "metadata": {},
   "cell_type": "code",
   "outputs": [],
   "execution_count": null,
   "source": [
    "class EstadoHanoi:\n",
    "    \"\"\"\n",
    "    Representa un estado del problema de la Torre de Hanoi.\n",
    "    Cada estado contiene las tres varillas con sus respectivos discos.\n",
    "    \"\"\"\n",
    "\n",
    "    def __init__(self, varillas: List[List[int]]):\n",
    "        self.varillas = [list(varilla) for varilla in varillas]  # Copia profunda\n",
    "\n",
    "    def __eq__(self, other):\n",
    "        return self.varillas == other.varillas\n",
    "\n",
    "    def __hash__(self):\n",
    "        return hash(tuple(tuple(varilla) for varilla in self.varillas))\n",
    "\n",
    "    def __str__(self):\n",
    "        return f\"A:{self.varillas[0]} B:{self.varillas[1]} C:{self.varillas[2]}\"\n",
    "\n",
    "    def es_valido(self) -> bool:\n",
    "        \"\"\"Verifica si el estado actual es válido según las reglas de Hanoi\"\"\"\n",
    "        for varilla in self.varillas:\n",
    "            for i in range(len(varilla) - 1):\n",
    "                if varilla[i] > varilla[i + 1]:  # Disco más grande sobre uno más pequeño\n",
    "                    return False\n",
    "        return True\n",
    "\n",
    "    def obtener_movimientos_posibles(self) -> List['EstadoHanoi']:\n",
    "        \"\"\"Genera todos los estados posibles desde el estado actual\"\"\"\n",
    "        movimientos = []\n",
    "\n",
    "        for origen in range(3):\n",
    "            if self.varillas[origen]:  # Si la varilla tiene discos\n",
    "                disco = self.varillas[origen][-1]  # Disco superior\n",
    "\n",
    "                for destino in range(3):\n",
    "                    if origen != destino:\n",
    "                        # Verificar si el movimiento es válido\n",
    "                        if not self.varillas[destino] or self.varillas[destino][-1] > disco:\n",
    "                            nuevo_estado = EstadoHanoi(self.varillas)\n",
    "                            nuevo_estado.varillas[origen].pop()\n",
    "                            nuevo_estado.varillas[destino].append(disco)\n",
    "                            movimientos.append(nuevo_estado)\n",
    "\n",
    "        return movimientos"
   ],
   "id": "d1d87a1e514e73b4"
  }
 ],
 "metadata": {
  "kernelspec": {
   "display_name": "Python 3",
   "language": "python",
   "name": "python3"
  },
  "language_info": {
   "codemirror_mode": {
    "name": "ipython",
    "version": 2
   },
   "file_extension": ".py",
   "mimetype": "text/x-python",
   "name": "python",
   "nbconvert_exporter": "python",
   "pygments_lexer": "ipython2",
   "version": "2.7.6"
  }
 },
 "nbformat": 4,
 "nbformat_minor": 5
}
