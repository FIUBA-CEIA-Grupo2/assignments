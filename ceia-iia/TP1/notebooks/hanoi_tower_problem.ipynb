{
 "cells": [
  {
   "metadata": {},
   "cell_type": "markdown",
   "source": [
    "# Torre de Hanoi - Algoritmo A*\n",
    "# Introducción a la Inteligencia Artificial\n",
    "\n",
    "## Problema de la Torre de Hanoi con 5 discos\n",
    "\n",
    "### Descripción del problema\n",
    "La Torre de Hanoi es un problema clásico que consiste en mover una torre de discos de diferentes tamaños de una varilla a otra, siguiendo estas reglas:\n",
    "1. Solo se puede mover un disco a la vez\n",
    "2. Un disco solo puede colocarse sobre otro disco más grande\n",
    "3. Objetivo: mover todos los discos de la varilla izquierda (A) a la derecha (C)\n",
    "\n",
    "### Estado inicial: Todos los discos en la varilla A\n",
    "### Estado objetivo: Todos los discos en la varilla C"
   ],
   "id": "3cd06fed0e64efe9"
  },
  {
   "metadata": {
    "ExecuteTime": {
     "end_time": "2025-07-14T03:11:08.465718Z",
     "start_time": "2025-07-14T03:11:08.453785Z"
    }
   },
   "cell_type": "code",
   "source": [
    "import sys\n",
    "from pathlib import Path\n",
    "\n",
    "# Ruta del archivo .ipynb\n",
    "notebook_path = Path(__file__).resolve() if '__file__' in globals() else Path().resolve()\n",
    "project_root = notebook_path\n",
    "\n",
    "# Agregás src y libs al path\n",
    "sys.path.append(str(project_root / \"src\"))\n",
    "sys.path.append(str(project_root / \"libs\"))\n"
   ],
   "id": "1cc7c50dbfd818ac",
   "outputs": [],
   "execution_count": 39
  },
  {
   "metadata": {
    "ExecuteTime": {
     "end_time": "2025-07-11T12:18:23.304451Z",
     "start_time": "2025-07-11T12:18:23.299819Z"
    }
   },
   "cell_type": "markdown",
   "source": "# EJECUCIÓN PRINCIPAL",
   "id": "d8c85be5beb267f4"
  },
  {
   "metadata": {
    "collapsed": true,
    "ExecuteTime": {
     "end_time": "2025-07-14T03:09:14.219047Z",
     "start_time": "2025-07-14T03:09:14.143364Z"
    }
   },
   "cell_type": "code",
   "source": [
    "from utils import compare_heuristics, get_execution_time_and_memory_usage\n",
    "\n",
    "solution, stats = compare_heuristics(disks_num=5, debug=False)\n",
    "\n",
    "output_dir = notebook_path / \"data/output\"\n",
    "Path(output_dir).mkdir(parents=True, exist_ok=True)\n",
    "\n",
    "solution.generate_solution_for_simulator(initial_state_file=output_dir / \"initial_state.json\",\n",
    "                                        sequence_file=output_dir / \"sequence.json\")\n",
    "print(f\"Algoritmo: A* con heurística {stats.get('heuristica_usada', 'miltifactorial')}\")\n",
    "print(f\"   Tiempo de ejecución: {stats.get('tiempo_ejecucion', 0):.4f} segundos\")\n",
    "print(f\"   Nodos explorados: {stats.get('nodos_explorados', 0)}\")\n",
    "print(f\"📁 Archivos generados en: {output_dir.resolve()}\")\n",
    "\n",
    "#validate_files()"
   ],
   "id": "initial_id",
   "outputs": [
    {
     "name": "stdout",
     "output_type": "stream",
     "text": [
      "\n",
      "==================================================\n",
      "ANÁLISIS COMPARATIVO\n",
      "==================================================\n",
      "Ambas heuristicas encontraron solución óptima: 31 movimientos\n",
      "Eficiencia en nodos explorados:\n",
      "  - Simple: 178 nodos\n",
      "  - Creativa: 154 nodos\n",
      "  - Mejora: 13.5%\n",
      "Algoritmo: A* con heurística miltifactorial\n",
      "   Tiempo de ejecución: 0.0253 segundos\n",
      "   Nodos explorados: 154\n",
      "📁 Archivos generados en: /home/mferrari/git/fiuba/ceia-iia/assignments/ceia-iia/TP1/data/output\n"
     ]
    }
   ],
   "execution_count": 36
  },
  {
   "metadata": {},
   "cell_type": "markdown",
   "source": "## Ejecutamos 10 veces para evaluar cuánto tiempo y memoria utiliza el algoritmo",
   "id": "a20fa9e06998d660"
  },
  {
   "metadata": {
    "ExecuteTime": {
     "end_time": "2025-07-14T03:05:28.699918Z",
     "start_time": "2025-07-14T03:05:27.728621Z"
    }
   },
   "cell_type": "code",
   "source": [
    "time_stats, memory_stats, movements = get_execution_time_and_memory_usage(iterations=10, use_multifactorial_heuristic=True)\n",
    "print(\"TIEMPO DE EJECUCIÓN:\")\n",
    "print(f\"   Promedio de tiempo de ejecución: {time_stats[0]:.4f} segundos\")\n",
    "print(f\"   Desviación estándar de tiempo de ejecución: {time_stats[1]:.4f} segundos\")\n",
    "print(\"\\nUSO DE MEMORIA:\")\n",
    "print(f\"   Promedio de uso de memoria: {memory_stats[0]:.4f} MB\")\n",
    "print(f\"   Desviación estándar de uso de memoria: {memory_stats[1]:.4f} MB\")\n",
    "print(\"\\nMOVIMIENTOS:\")\n",
    "print(f\"   Promedio de movimientos: {movements}\")"
   ],
   "id": "2fe9e517bb78c1e0",
   "outputs": [
    {
     "name": "stdout",
     "output_type": "stream",
     "text": [
      "TIEMPO DE EJECUCIÓN:\n",
      "   Promedio de tiempo de ejecución: 0.0956 segundos\n",
      "   Desviación estándar de tiempo de ejecución: 0.0094 segundos\n",
      "\n",
      "USO DE MEMORIA:\n",
      "   Promedio de uso de memoria: 0.1595 MB\n",
      "   Desviación estándar de uso de memoria: 0.0039 MB\n",
      "\n",
      "MOVIMIENTOS:\n",
      "   Promedio de movimientos: 31\n"
     ]
    }
   ],
   "execution_count": 33
  }
 ],
 "metadata": {
  "kernelspec": {
   "display_name": "Python 3",
   "language": "python",
   "name": "python3"
  },
  "language_info": {
   "codemirror_mode": {
    "name": "ipython",
    "version": 2
   },
   "file_extension": ".py",
   "mimetype": "text/x-python",
   "name": "python",
   "nbconvert_exporter": "python",
   "pygments_lexer": "ipython2",
   "version": "2.7.6"
  }
 },
 "nbformat": 4,
 "nbformat_minor": 5
}
