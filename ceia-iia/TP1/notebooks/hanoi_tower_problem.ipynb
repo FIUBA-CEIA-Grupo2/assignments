{
 "cells": [
  {
   "cell_type": "markdown",
   "id": "3cd06fed0e64efe9",
   "metadata": {},
   "source": [
    "# Torre de Hanoi - Algoritmo A*\n",
    "# Introducción a la Inteligencia Artificial\n",
    "\n",
    "## Problema de la Torre de Hanoi con 5 discos\n",
    "\n",
    "### Descripción del problema\n",
    "La Torre de Hanoi es un problema clásico que consiste en mover una torre de discos de diferentes tamaños de una varilla a otra, siguiendo estas reglas:\n",
    "1. Solo se puede mover un disco a la vez\n",
    "2. Un disco solo puede colocarse sobre otro disco más grande\n",
    "3. Objetivo: mover todos los discos de la varilla izquierda (A) a la derecha (C)\n",
    "\n",
    "### Estado inicial: Todos los discos en la varilla A\n",
    "### Estado objetivo: Todos los discos en la varilla C"
   ]
  },
  {
   "cell_type": "code",
   "execution_count": 1,
   "id": "1cc7c50dbfd818ac",
   "metadata": {
    "ExecuteTime": {
     "end_time": "2025-07-14T03:11:08.465718Z",
     "start_time": "2025-07-14T03:11:08.453785Z"
    }
   },
   "outputs": [],
   "source": [
    "import sys\n",
    "from pathlib import Path\n",
    "\n",
    "# Ruta del archivo .ipynb\n",
    "notebook_path = Path(__file__).resolve() if '__file__' in globals() else Path().resolve()\n",
    "project_root = notebook_path.parent\n",
    "\n",
    "# Agregás src y libs al path\n",
    "sys.path.append(str(project_root / \"src\"))\n",
    "sys.path.append(str(project_root / \"libs\"))\n"
   ]
  },
  {
   "cell_type": "markdown",
   "id": "d8c85be5beb267f4",
   "metadata": {
    "ExecuteTime": {
     "end_time": "2025-07-11T12:18:23.304451Z",
     "start_time": "2025-07-11T12:18:23.299819Z"
    }
   },
   "source": [
    "# EJECUCIÓN PRINCIPAL"
   ]
  },
  {
   "cell_type": "code",
   "execution_count": 2,
   "id": "1342d0bbf0ee5ea0",
   "metadata": {},
   "outputs": [
    {
     "name": "stdout",
     "output_type": "stream",
     "text": [
      "\u001b[32m19:31:07\u001b[0m | \u001b[1mINFO\u001b[0m | \u001b[36mutils\u001b[0m:\u001b[36mcompare_heuristics\u001b[0m - \u001b[1m==================================================\u001b[0m\n",
      "\u001b[32m19:31:07\u001b[0m | \u001b[1mINFO\u001b[0m | \u001b[36mutils\u001b[0m:\u001b[36mcompare_heuristics\u001b[0m - \u001b[1mANÁLISIS COMPARATIVO\u001b[0m\n",
      "\u001b[32m19:31:07\u001b[0m | \u001b[1mINFO\u001b[0m | \u001b[36mutils\u001b[0m:\u001b[36mcompare_heuristics\u001b[0m - \u001b[1m==================================================\u001b[0m\n",
      "\u001b[32m19:31:07\u001b[0m | \u001b[1mINFO\u001b[0m | \u001b[36mutils\u001b[0m:\u001b[36mcompare_heuristics\u001b[0m - \u001b[1mAmbas heurísticas encontraron solución óptima: 31 movimientos\u001b[0m\n",
      "\u001b[32m19:31:07\u001b[0m | \u001b[1mINFO\u001b[0m | \u001b[36mutils\u001b[0m:\u001b[36mcompare_heuristics\u001b[0m - \u001b[1mEficiencia en nodos explorados:\u001b[0m\n",
      "\u001b[32m19:31:07\u001b[0m | \u001b[1mINFO\u001b[0m | \u001b[36mutils\u001b[0m:\u001b[36mcompare_heuristics\u001b[0m - \u001b[1m  - Simple: 178 nodos\u001b[0m\n",
      "\u001b[32m19:31:07\u001b[0m | \u001b[1mINFO\u001b[0m | \u001b[36mutils\u001b[0m:\u001b[36mcompare_heuristics\u001b[0m - \u001b[1m  - Creativa: 154 nodos\u001b[0m\n",
      "\u001b[32m19:31:07\u001b[0m | \u001b[1mINFO\u001b[0m | \u001b[36mutils\u001b[0m:\u001b[36mcompare_heuristics\u001b[0m - \u001b[1m  - Mejora: 13.5%\u001b[0m\n",
      "Algoritmo: A* con heurística multifactorial\n",
      "   Tiempo de ejecución: 0.0074 segundos\n",
      "   Nodos explorados: 154\n",
      "📁 Archivos generados en: /Users/nicocia/Desktop/CEIA/IIA/assignments/ceia-iia/TP1/notebooks/data/output\n",
      "\u001b[32m19:31:07\u001b[0m | \u001b[1mINFO\u001b[0m | \u001b[36mvalidation\u001b[0m:\u001b[36mvalidate_files\u001b[0m - \u001b[1m1. Validando initial_state.json...\u001b[0m\n",
      "\u001b[32m19:31:07\u001b[0m | \u001b[1mINFO\u001b[0m | \u001b[36mvalidation\u001b[0m:\u001b[36mvalidate_files\u001b[0m - \u001b[1m   ✓ initial_state.json válido\u001b[0m\n",
      "\u001b[32m19:31:07\u001b[0m | \u001b[1mINFO\u001b[0m | \u001b[36mvalidation\u001b[0m:\u001b[36mvalidate_files\u001b[0m - \u001b[1m2. Validando sequence.json...\u001b[0m\n",
      "\u001b[32m19:31:07\u001b[0m | \u001b[1mINFO\u001b[0m | \u001b[36mvalidation\u001b[0m:\u001b[36mvalidate_files\u001b[0m - \u001b[1m   ✓ sequence.json válido (31 movimientos)\u001b[0m\n",
      "\u001b[32m19:31:07\u001b[0m | \u001b[1mINFO\u001b[0m | \u001b[36mvalidation\u001b[0m:\u001b[36mvalidate_files\u001b[0m - \u001b[1m\n",
      "🎉 Ambos archivos son válidos!\u001b[0m\n"
     ]
    }
   ],
   "source": [
    "from utils import compare_heuristics, get_execution_time_and_memory_usage\n",
    "from validation import validate_files\n",
    "\n",
    "solution, stats = compare_heuristics(disks_num=5, debug=False)\n",
    "\n",
    "output_dir = notebook_path / \"data/output\"\n",
    "Path(output_dir).mkdir(parents=True, exist_ok=True)\n",
    "\n",
    "solution.generate_solution_for_simulator(initial_state_file=output_dir / \"initial_state.json\",\n",
    "                                        sequence_file=output_dir / \"sequence.json\")\n",
    "print(f\"Algoritmo: A* con heurística {stats.get('heuristica_usada', 'miltifactorial')}\")\n",
    "print(f\"   Tiempo de ejecución: {stats.get('tiempo_ejecucion', 0):.4f} segundos\")\n",
    "print(f\"   Nodos explorados: {stats.get('nodos_explorados', 0)}\")\n",
    "print(f\"📁 Archivos generados en: {output_dir.resolve()}\")\n",
    "\n",
    "_ = validate_files(output_dir)"
   ]
  },
  {
   "cell_type": "markdown",
   "id": "b53ebf52c2d36e0f",
   "metadata": {},
   "source": [
    "## Ejecutamos 10 veces para evaluar cuánto tiempo y memoria utiliza el algoritmo"
   ]
  },
  {
   "cell_type": "code",
   "execution_count": 3,
   "id": "ffc7ad33ab40f807",
   "metadata": {},
   "outputs": [
    {
     "name": "stdout",
     "output_type": "stream",
     "text": [
      "TIEMPO DE EJECUCIÓN:\n",
      "   Promedio de tiempo de ejecución: 0.0281 segundos\n",
      "   Desviación estándar de tiempo de ejecución: 0.0018 segundos\n",
      "\n",
      "USO DE MEMORIA:\n",
      "   Promedio de uso de memoria: 0.1783 MB\n",
      "   Desviación estándar de uso de memoria: 0.0117 MB\n",
      "\n",
      "MOVIMIENTOS:\n",
      "   Promedio de movimientos: 31\n"
     ]
    }
   ],
   "source": [
    "time_stats, memory_stats, movements = get_execution_time_and_memory_usage(iterations=10, use_multifactorial_heuristic=True)\n",
    "print(\"TIEMPO DE EJECUCIÓN:\")\n",
    "print(f\"   Promedio de tiempo de ejecución: {time_stats[0]:.4f} segundos\")\n",
    "print(f\"   Desviación estándar de tiempo de ejecución: {time_stats[1]:.4f} segundos\")\n",
    "print(\"\\nUSO DE MEMORIA:\")\n",
    "print(f\"   Promedio de uso de memoria: {memory_stats[0]:.4f} MB\")\n",
    "print(f\"   Desviación estándar de uso de memoria: {memory_stats[1]:.4f} MB\")\n",
    "print(\"\\nMOVIMIENTOS:\")\n",
    "print(f\"   Promedio de movimientos: {movements}\")"
   ]
  }
 ],
 "metadata": {
  "kernelspec": {
   "display_name": "Python 3 (ipykernel)",
   "language": "python",
   "name": "python3"
  },
  "language_info": {
   "codemirror_mode": {
    "name": "ipython",
    "version": 3
   },
   "file_extension": ".py",
   "mimetype": "text/x-python",
   "name": "python",
   "nbconvert_exporter": "python",
   "pygments_lexer": "ipython3",
   "version": "3.11.13"
  }
 },
 "nbformat": 4,
 "nbformat_minor": 5
}
