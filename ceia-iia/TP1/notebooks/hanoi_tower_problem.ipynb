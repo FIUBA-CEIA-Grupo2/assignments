{
 "cells": [
  {
   "cell_type": "markdown",
   "id": "3cd06fed0e64efe9",
   "metadata": {},
   "source": [
    "# Torre de Hanoi - Algoritmo A*\n",
    "# Introducción a la Inteligencia Artificial\n",
    "\n",
    "## Problema de la Torre de Hanoi con 5 discos\n",
    "\n",
    "### Descripción del problema\n",
    "La Torre de Hanoi es un problema clásico que consiste en mover una torre de discos de diferentes tamaños de una varilla a otra, siguiendo estas reglas:\n",
    "1. Solo se puede mover un disco a la vez\n",
    "2. Un disco solo puede colocarse sobre otro disco más grande\n",
    "3. Objetivo: mover todos los discos de la varilla izquierda (A) a la derecha (C)\n",
    "\n",
    "### Estado inicial: Todos los discos en la varilla A\n",
    "### Estado objetivo: Todos los discos en la varilla C"
   ]
  },
  {
   "cell_type": "code",
   "execution_count": 1,
   "id": "1cc7c50dbfd818ac",
   "metadata": {
    "ExecuteTime": {
     "end_time": "2025-07-17T20:26:06.577868Z",
     "start_time": "2025-07-17T20:26:06.571096Z"
    }
   },
   "outputs": [],
   "source": [
    "import sys\n",
    "from pathlib import Path\n",
    "\n",
    "# Ruta del archivo .ipynb\n",
    "notebook_path = Path(__file__).resolve() if '__file__' in globals() else Path().resolve()\n",
    "project_root = notebook_path.parent\n",
    "\n",
    "# Agregás src y libs al path\n",
    "sys.path.append(str(project_root / \"src\"))\n",
    "sys.path.append(str(project_root / \"libs\"))\n"
   ]
  },
  {
   "cell_type": "markdown",
   "id": "d8c85be5beb267f4",
   "metadata": {
    "ExecuteTime": {
     "end_time": "2025-07-11T12:18:23.304451Z",
     "start_time": "2025-07-11T12:18:23.299819Z"
    }
   },
   "source": [
    "# EJECUCIÓN PRINCIPAL"
   ]
  },
  {
   "cell_type": "code",
   "execution_count": 4,
   "id": "1342d0bbf0ee5ea0",
   "metadata": {
    "ExecuteTime": {
     "end_time": "2025-07-17T20:26:08.817353Z",
     "start_time": "2025-07-17T20:26:08.787570Z"
    }
   },
   "outputs": [
    {
     "name": "stdout",
     "output_type": "stream",
     "text": [
      "\u001B[32m13:28:05\u001B[0m | \u001B[34m\u001B[1mDEBUG\u001B[0m | \u001B[36mtower_hanoi_astar_solver\u001B[0m:\u001B[36ma_star\u001B[0m - \u001B[34m\u001B[1mIniciando A* con heurística simple...\u001B[0m\n",
      "\u001B[32m13:28:05\u001B[0m | \u001B[34m\u001B[1mDEBUG\u001B[0m | \u001B[36mtower_hanoi_astar_solver\u001B[0m:\u001B[36ma_star\u001B[0m - \u001B[34m\u001B[1mEstado inicial: HanoiState: 5 4 3 2 1 |  | \u001B[0m\n",
      "\u001B[32m13:28:05\u001B[0m | \u001B[34m\u001B[1mDEBUG\u001B[0m | \u001B[36mtower_hanoi_astar_solver\u001B[0m:\u001B[36ma_star\u001B[0m - \u001B[34m\u001B[1mEstado objetivo: HanoiState:  |  | 5 4 3 2 1\u001B[0m\n",
      "\u001B[32m13:28:05\u001B[0m | \u001B[34m\u001B[1mDEBUG\u001B[0m | \u001B[36mtower_hanoi_astar_solver\u001B[0m:\u001B[36ma_star\u001B[0m - \u001B[34m\u001B[1m------------------------------------------------------------\u001B[0m\n",
      "\u001B[32m13:28:05\u001B[0m | \u001B[34m\u001B[1mDEBUG\u001B[0m | \u001B[36mutils\u001B[0m:\u001B[36mcompare_heuristics\u001B[0m - \u001B[34m\u001B[1m\n",
      "1. HEURÍSTICA SIMPLE (discos fuera de lugar)\u001B[0m\n",
      "\u001B[32m13:28:05\u001B[0m | \u001B[34m\u001B[1mDEBUG\u001B[0m | \u001B[36mutils\u001B[0m:\u001B[36mcompare_heuristics\u001B[0m - \u001B[34m\u001B[1m✓ Solución encontrada en 31 movimientos\u001B[0m\n",
      "\u001B[32m13:28:05\u001B[0m | \u001B[34m\u001B[1mDEBUG\u001B[0m | \u001B[36mutils\u001B[0m:\u001B[36mcompare_heuristics\u001B[0m - \u001B[34m\u001B[1m  - Nodos explorados: 178\u001B[0m\n",
      "\u001B[32m13:28:05\u001B[0m | \u001B[34m\u001B[1mDEBUG\u001B[0m | \u001B[36mutils\u001B[0m:\u001B[36mcompare_heuristics\u001B[0m - \u001B[34m\u001B[1m  - Nodos expandidos: 177\u001B[0m\n",
      "\u001B[32m13:28:05\u001B[0m | \u001B[34m\u001B[1mDEBUG\u001B[0m | \u001B[36mutils\u001B[0m:\u001B[36mcompare_heuristics\u001B[0m - \u001B[34m\u001B[1m  - Tiempo: 0.0299 segundos\u001B[0m\n",
      "\u001B[32m13:28:05\u001B[0m | \u001B[34m\u001B[1mDEBUG\u001B[0m | \u001B[36mtower_hanoi_astar_solver\u001B[0m:\u001B[36ma_star\u001B[0m - \u001B[34m\u001B[1mIniciando A* con heurística multifactorial...\u001B[0m\n",
      "\u001B[32m13:28:05\u001B[0m | \u001B[34m\u001B[1mDEBUG\u001B[0m | \u001B[36mtower_hanoi_astar_solver\u001B[0m:\u001B[36ma_star\u001B[0m - \u001B[34m\u001B[1mEstado inicial: HanoiState: 5 4 3 2 1 |  | \u001B[0m\n",
      "\u001B[32m13:28:05\u001B[0m | \u001B[34m\u001B[1mDEBUG\u001B[0m | \u001B[36mtower_hanoi_astar_solver\u001B[0m:\u001B[36ma_star\u001B[0m - \u001B[34m\u001B[1mEstado objetivo: HanoiState:  |  | 5 4 3 2 1\u001B[0m\n",
      "\u001B[32m13:28:05\u001B[0m | \u001B[34m\u001B[1mDEBUG\u001B[0m | \u001B[36mtower_hanoi_astar_solver\u001B[0m:\u001B[36ma_star\u001B[0m - \u001B[34m\u001B[1m------------------------------------------------------------\u001B[0m\n",
      "\u001B[32m13:28:05\u001B[0m | \u001B[34m\u001B[1mDEBUG\u001B[0m | \u001B[36mutils\u001B[0m:\u001B[36mcompare_heuristics\u001B[0m - \u001B[34m\u001B[1m\n",
      "2. HEURÍSTICA MULTIFACTORIAL\u001B[0m\n",
      "\u001B[32m13:28:05\u001B[0m | \u001B[34m\u001B[1mDEBUG\u001B[0m | \u001B[36mutils\u001B[0m:\u001B[36mcompare_heuristics\u001B[0m - \u001B[34m\u001B[1m✓ Solución encontrada en 31 movimientos\u001B[0m\n",
      "\u001B[32m13:28:05\u001B[0m | \u001B[34m\u001B[1mDEBUG\u001B[0m | \u001B[36mutils\u001B[0m:\u001B[36mcompare_heuristics\u001B[0m - \u001B[34m\u001B[1m  - Nodos explorados: 154\u001B[0m\n",
      "\u001B[32m13:28:05\u001B[0m | \u001B[34m\u001B[1mDEBUG\u001B[0m | \u001B[36mutils\u001B[0m:\u001B[36mcompare_heuristics\u001B[0m - \u001B[34m\u001B[1m  - Nodos expandidos: 153\u001B[0m\n",
      "\u001B[32m13:28:05\u001B[0m | \u001B[34m\u001B[1mDEBUG\u001B[0m | \u001B[36mutils\u001B[0m:\u001B[36mcompare_heuristics\u001B[0m - \u001B[34m\u001B[1m  - Tiempo: 0.0180 segundos\u001B[0m\n",
      "\u001B[32m13:28:05\u001B[0m | \u001B[1mINFO\u001B[0m | \u001B[36mutils\u001B[0m:\u001B[36mcompare_heuristics\u001B[0m - \u001B[1m==================================================\u001B[0m\n",
      "\u001B[32m13:28:05\u001B[0m | \u001B[1mINFO\u001B[0m | \u001B[36mutils\u001B[0m:\u001B[36mcompare_heuristics\u001B[0m - \u001B[1mANÁLISIS COMPARATIVO\u001B[0m\n",
      "\u001B[32m13:28:05\u001B[0m | \u001B[1mINFO\u001B[0m | \u001B[36mutils\u001B[0m:\u001B[36mcompare_heuristics\u001B[0m - \u001B[1m==================================================\u001B[0m\n",
      "\u001B[32m13:28:05\u001B[0m | \u001B[1mINFO\u001B[0m | \u001B[36mutils\u001B[0m:\u001B[36mcompare_heuristics\u001B[0m - \u001B[1mAmbas heurísticas encontraron solución óptima: 31 movimientos\u001B[0m\n",
      "\u001B[32m13:28:05\u001B[0m | \u001B[1mINFO\u001B[0m | \u001B[36mutils\u001B[0m:\u001B[36mcompare_heuristics\u001B[0m - \u001B[1mEficiencia en nodos explorados:\u001B[0m\n",
      "\u001B[32m13:28:05\u001B[0m | \u001B[1mINFO\u001B[0m | \u001B[36mutils\u001B[0m:\u001B[36mcompare_heuristics\u001B[0m - \u001B[1m  - Simple: 178 nodos\u001B[0m\n",
      "\u001B[32m13:28:05\u001B[0m | \u001B[1mINFO\u001B[0m | \u001B[36mutils\u001B[0m:\u001B[36mcompare_heuristics\u001B[0m - \u001B[1m  - Creativa: 154 nodos\u001B[0m\n",
      "\u001B[32m13:28:05\u001B[0m | \u001B[1mINFO\u001B[0m | \u001B[36mutils\u001B[0m:\u001B[36mcompare_heuristics\u001B[0m - \u001B[1m  - Mejora: 13.5%\u001B[0m\n",
      "Algoritmo: A* con heurística multifactorial\n",
      "   Tiempo de ejecución: 0.0180 segundos\n",
      "   Nodos explorados: 154\n",
      "📁 Archivos generados en: /home/mferrari/git/fiuba/ceia-iia/assignments/ceia-iia/TP1/notebooks/data/output\n",
      "\u001B[32m13:28:05\u001B[0m | \u001B[1mINFO\u001B[0m | \u001B[36mvalidation\u001B[0m:\u001B[36mvalidate_hanoi_simulator_files\u001B[0m - \u001B[1m1. Validando initial_state.json...\u001B[0m\n",
      "\u001B[32m13:28:05\u001B[0m | \u001B[1mINFO\u001B[0m | \u001B[36mvalidation\u001B[0m:\u001B[36mvalidate_hanoi_simulator_files\u001B[0m - \u001B[1m   ✓ initial_state.json válido\u001B[0m\n",
      "\u001B[32m13:28:05\u001B[0m | \u001B[1mINFO\u001B[0m | \u001B[36mvalidation\u001B[0m:\u001B[36mvalidate_hanoi_simulator_files\u001B[0m - \u001B[1m2. Validando sequence.json...\u001B[0m\n",
      "\u001B[32m13:28:05\u001B[0m | \u001B[1mINFO\u001B[0m | \u001B[36mvalidation\u001B[0m:\u001B[36mvalidate_hanoi_simulator_files\u001B[0m - \u001B[1m   ✓ sequence.json válido (31 movimientos)\u001B[0m\n",
      "\u001B[32m13:28:05\u001B[0m | \u001B[1mINFO\u001B[0m | \u001B[36mvalidation\u001B[0m:\u001B[36mvalidate_hanoi_simulator_files\u001B[0m - \u001B[1m🎉 Ambos archivos son válidos!\u001B[0m\n"
     ]
    }
   ],
   "source": [
    "from utils import compare_heuristics, get_execution_time_and_memory_usage\n",
    "from validation import validate_hanoi_simulator_files\n",
    "from core.logger import configure_logger\n",
    "\n",
    "configure_logger(\"DEBUG\")\n",
    "\n",
    "solution, stats = compare_heuristics(disks_num=5)\n",
    "\n",
    "output_dir = notebook_path / \"data/output\"\n",
    "Path(output_dir).mkdir(parents=True, exist_ok=True)\n",
    "\n",
    "solution.generate_solution_for_simulator(initial_state_file=output_dir / \"initial_state.json\",\n",
    "                                        sequence_file=output_dir / \"sequence.json\")\n",
    "print(f\"Algoritmo: A* con heurística {stats.get('heuristica_usada', 'miltifactorial')}\")\n",
    "print(f\"   Tiempo de ejecución: {stats.get('tiempo_ejecucion', 0):.4f} segundos\")\n",
    "print(f\"   Nodos explorados: {stats.get('nodos_explorados', 0)}\")\n",
    "print(f\"📁 Archivos generados en: {output_dir.resolve()}\")\n",
    "\n",
    "_ = validate_hanoi_simulator_files(output_dir)"
   ]
  },
  {
   "cell_type": "markdown",
   "id": "b53ebf52c2d36e0f",
   "metadata": {},
   "source": [
    "## Ejecutamos 10 veces para evaluar cuánto tiempo y memoria utiliza el algoritmo"
   ]
  },
  {
   "cell_type": "code",
   "execution_count": 3,
   "id": "ffc7ad33ab40f807",
   "metadata": {},
   "outputs": [
    {
     "name": "stdout",
     "output_type": "stream",
     "text": [
      "TIEMPO DE EJECUCIÓN:\n",
      "   Promedio de tiempo de ejecución: 0.0938 segundos\n",
      "   Desviación estándar de tiempo de ejecución: 0.0300 segundos\n",
      "\n",
      "USO DE MEMORIA:\n",
      "   Promedio de uso de memoria: 0.1777 MB\n",
      "   Desviación estándar de uso de memoria: 0.0112 MB\n",
      "\n",
      "MOVIMIENTOS:\n",
      "   Promedio de movimientos: 31\n"
     ]
    }
   ],
   "source": [
    "time_stats, memory_stats, movements = get_execution_time_and_memory_usage(iterations=10, use_multifactorial_heuristic=True)\n",
    "print(\"TIEMPO DE EJECUCIÓN:\")\n",
    "print(f\"   Promedio de tiempo de ejecución: {time_stats[0]:.4f} segundos\")\n",
    "print(f\"   Desviación estándar de tiempo de ejecución: {time_stats[1]:.4f} segundos\")\n",
    "print(\"\\nUSO DE MEMORIA:\")\n",
    "print(f\"   Promedio de uso de memoria: {memory_stats[0]:.4f} MB\")\n",
    "print(f\"   Desviación estándar de uso de memoria: {memory_stats[1]:.4f} MB\")\n",
    "print(\"\\nMOVIMIENTOS:\")\n",
    "print(f\"   Promedio de movimientos: {movements}\")"
   ]
  }
 ],
 "metadata": {
  "kernelspec": {
   "display_name": "Python 3 (ipykernel)",
   "language": "python",
   "name": "python3"
  },
  "language_info": {
   "codemirror_mode": {
    "name": "ipython",
    "version": 3
   },
   "file_extension": ".py",
   "mimetype": "text/x-python",
   "name": "python",
   "nbconvert_exporter": "python",
   "pygments_lexer": "ipython3",
   "version": "3.11.10"
  }
 },
 "nbformat": 4,
 "nbformat_minor": 5
}
